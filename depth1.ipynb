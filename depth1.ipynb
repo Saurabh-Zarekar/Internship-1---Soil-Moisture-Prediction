{
 "cells": [
  {
   "cell_type": "code",
   "execution_count": 25,
   "metadata": {},
   "outputs": [],
   "source": [
    "import pandas as pd\n",
    "import matplotlib.pyplot as plt\n",
    "import numpy as np\n",
    "import seaborn as sns\n",
    "from sklearn.metrics import mean_absolute_error, mean_squared_error, r2_score\n",
    "from sklearn.model_selection import train_test_split\n",
    "from sklearn.ensemble import RandomForestRegressor"
   ]
  },
  {
   "cell_type": "code",
   "execution_count": 26,
   "metadata": {},
   "outputs": [],
   "source": [
    "data = pd.read_csv('SM1_data.csv')"
   ]
  },
  {
   "cell_type": "code",
   "execution_count": 27,
   "metadata": {},
   "outputs": [],
   "source": [
    "def calculate_accuracy(y_true, y_pred):\n",
    "    total_error = np.sum(np.abs(y_true - y_pred))\n",
    "    accuracy = 1 - (total_error / np.sum(y_true))\n",
    "    return accuracy * 100  # Convert to percentage\n"
   ]
  },
  {
   "cell_type": "code",
   "execution_count": 28,
   "metadata": {},
   "outputs": [],
   "source": [
    "def Soil_Surface_Moisture():\n",
    "\n",
    "    X = data[[ 'Rain','St10', 'Air_Temperature','ref40']]\n",
    "    Y_SM = data['SM10']\n",
    "\n",
    "    print(X.dtypes)\n",
    "    print(Y_SM.dtype)\n",
    "\n",
    "    X_train, X_test, Y_train, Y_test = train_test_split(X, Y_SM, test_size=0.2, random_state=42)\n",
    "\n",
    "    model = RandomForestRegressor(max_depth=7, random_state=42)\n",
    "    model.fit(X_train, Y_train)\n",
    "\n",
    "    SMP = model.predict(X_test)\n",
    "\n",
    "    print(\"--------At depth 10cm----------\")\n",
    "    print(\"Mean Absolute Error (MAE): \", mean_absolute_error(Y_test, SMP))\n",
    "    print(\"Mean Squared Error (MSE): \", mean_squared_error(Y_test, SMP))\n",
    "    print(\"R-squared (R2): \", r2_score(Y_test, SMP))\n",
    "    rmse = np.sqrt(mean_squared_error(Y_test, SMP))\n",
    "    print(\"Root Mean Squared Error:\", rmse)\n",
    "    \n",
    "    accuracy = calculate_accuracy(Y_test, SMP)\n",
    "    print(\"Accuracy: {:.2f}%\".format(accuracy))\n"
   ]
  },
  {
   "cell_type": "code",
   "execution_count": 29,
   "metadata": {},
   "outputs": [],
   "source": [
    "def Soil_30cm_Moisture():\n",
    "\n",
    "    X = data[[ 'Rain','SM10','St30']]\n",
    "    Y_SM = data['SM30']\n",
    "\n",
    "    print(X.dtypes)\n",
    "    print(Y_SM.dtype)\n",
    "\n",
    "    X_train, X_test, Y_train, Y_test = train_test_split(X, Y_SM, test_size=0.2, random_state=42)\n",
    "\n",
    "    model = RandomForestRegressor(max_depth=7, random_state=42)\n",
    "    model.fit(X_train, Y_train)\n",
    "\n",
    "    SMP = model.predict(X_test)\n",
    "\n",
    "    print(\"--------At depth 30cm----------\")\n",
    "    print(\"Mean Absolute Error (MAE): \", mean_absolute_error(Y_test, SMP))\n",
    "    print(\"Mean Squared Error (MSE): \", mean_squared_error(Y_test, SMP))\n",
    "    print(\"R-squared (R2): \", r2_score(Y_test, SMP))\n",
    "    rmse = np.sqrt(mean_squared_error(Y_test, SMP))\n",
    "    print(\"Root Mean Squared Error:\", rmse)\n",
    "    \n",
    "    accuracy = calculate_accuracy(Y_test, SMP)\n",
    "    print(\"Accuracy: {:.2f}%\".format(accuracy))"
   ]
  },
  {
   "cell_type": "code",
   "execution_count": 30,
   "metadata": {},
   "outputs": [],
   "source": [
    "def Soil_60cm_Moisture():\n",
    "\n",
    "    X = data[[ 'SM10','St60','SM30']]\n",
    "    Y_SM = data['SM60']\n",
    "\n",
    "    print(X.dtypes)\n",
    "    print(Y_SM.dtype)\n",
    "\n",
    "    X_train, X_test, Y_train, Y_test = train_test_split(X, Y_SM, test_size=0.2, random_state=42)\n",
    "\n",
    "    model = RandomForestRegressor(max_depth=7, random_state=42)\n",
    "    model.fit(X_train, Y_train)\n",
    "\n",
    "    SMP = model.predict(X_test)\n",
    "\n",
    "    print(\"--------At depth 60cm----------\")\n",
    "    print(\"Mean Absolute Error (MAE): \", mean_absolute_error(Y_test, SMP))\n",
    "    print(\"Mean Squared Error (MSE): \", mean_squared_error(Y_test, SMP))\n",
    "    print(\"R-squared (R2): \", r2_score(Y_test, SMP))\n",
    "    rmse = np.sqrt(mean_squared_error(Y_test, SMP))\n",
    "    print(\"Root Mean Squared Error:\", rmse)\n",
    "    \n",
    "    accuracy = calculate_accuracy(Y_test, SMP)\n",
    "    print(\"Accuracy: {:.2f}%\".format(accuracy))"
   ]
  },
  {
   "cell_type": "code",
   "execution_count": 31,
   "metadata": {},
   "outputs": [],
   "source": [
    "def Soil_100cm_Moisture():\n",
    "\n",
    "    X = data[[ 'SM10','SM60','SM30','St100']]\n",
    "    Y_SM = data['SM100']\n",
    "\n",
    "    print(X.dtypes)\n",
    "    print(Y_SM.dtype)\n",
    "\n",
    "    X_train, X_test, Y_train, Y_test = train_test_split(X, Y_SM, test_size=0.2, random_state=42)\n",
    "\n",
    "    model = RandomForestRegressor(max_depth=7, random_state=42)\n",
    "    model.fit(X_train, Y_train)\n",
    "\n",
    "    SMP = model.predict(X_test)\n",
    "\n",
    "    print(\"--------At depth 100cm----------\")\n",
    "    print(\"Mean Absolute Error (MAE): \", mean_absolute_error(Y_test, SMP))\n",
    "    print(\"Mean Squared Error (MSE): \", mean_squared_error(Y_test, SMP))\n",
    "    print(\"R-squared (R2): \", r2_score(Y_test, SMP))\n",
    "    rmse = np.sqrt(mean_squared_error(Y_test, SMP))\n",
    "    print(\"Root Mean Squared Error:\", rmse)\n",
    "    \n",
    "    accuracy = calculate_accuracy(Y_test, SMP)\n",
    "    print(\"Accuracy: {:.2f}%\".format(accuracy))"
   ]
  },
  {
   "cell_type": "code",
   "execution_count": 32,
   "metadata": {},
   "outputs": [
    {
     "name": "stdout",
     "output_type": "stream",
     "text": [
      "Rain               float64\n",
      "St10               float64\n",
      "Air_Temperature    float64\n",
      "ref40              float64\n",
      "dtype: object\n",
      "float64\n",
      "--------At depth 10cm----------\n",
      "Mean Absolute Error (MAE):  2.309872788987172\n",
      "Mean Squared Error (MSE):  11.426250126595157\n",
      "R-squared (R2):  0.888378332252569\n",
      "Root Mean Squared Error: 3.380273676286457\n",
      "Accuracy: 90.79%\n",
      "Rain    float64\n",
      "SM10    float64\n",
      "St30    float64\n",
      "dtype: object\n",
      "float64\n",
      "--------At depth 30cm----------\n",
      "Mean Absolute Error (MAE):  0.9143852366548405\n",
      "Mean Squared Error (MSE):  1.7858540690706743\n",
      "R-squared (R2):  0.973464129828357\n",
      "Root Mean Squared Error: 1.3363585106814242\n",
      "Accuracy: 96.64%\n",
      "SM10    float64\n",
      "St60    float64\n",
      "SM30    float64\n",
      "dtype: object\n",
      "float64\n",
      "--------At depth 60cm----------\n",
      "Mean Absolute Error (MAE):  0.518291556973738\n",
      "Mean Squared Error (MSE):  1.0729567792563215\n",
      "R-squared (R2):  0.9835697394986129\n",
      "Root Mean Squared Error: 1.0358362704869537\n",
      "Accuracy: 98.10%\n",
      "SM10     float64\n",
      "SM60     float64\n",
      "SM30     float64\n",
      "St100    float64\n",
      "dtype: object\n",
      "float64\n",
      "--------At depth 100cm----------\n",
      "Mean Absolute Error (MAE):  0.2871285488730607\n",
      "Mean Squared Error (MSE):  0.22740192658118624\n",
      "R-squared (R2):  0.9807404582644809\n",
      "Root Mean Squared Error: 0.4768667807482361\n",
      "Accuracy: 99.14%\n"
     ]
    }
   ],
   "source": [
    "Soil_Surface_Moisture()\n",
    "Soil_30cm_Moisture()\n",
    "Soil_60cm_Moisture()\n",
    "Soil_100cm_Moisture()"
   ]
  }
 ],
 "metadata": {
  "kernelspec": {
   "display_name": "Python 3",
   "language": "python",
   "name": "python3"
  },
  "language_info": {
   "codemirror_mode": {
    "name": "ipython",
    "version": 3
   },
   "file_extension": ".py",
   "mimetype": "text/x-python",
   "name": "python",
   "nbconvert_exporter": "python",
   "pygments_lexer": "ipython3",
   "version": "3.12.1"
  }
 },
 "nbformat": 4,
 "nbformat_minor": 2
}
